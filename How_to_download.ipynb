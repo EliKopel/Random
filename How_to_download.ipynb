{
 "cells": [
  {
   "cell_type": "markdown",
   "metadata": {},
   "source": [
    "#### How to Download a New Dataset from the GEO Portal"
   ]
  },
  {
   "cell_type": "markdown",
   "metadata": {},
   "source": [
    "1. Find the Dataset\n",
    "\n",
    "    1.1 Go to the GEO website (https://www.ncbi.nlm.nih.gov/geo/) and locate the dataset you wish to download. \n",
    "        Example: GSE189849\n",
    "\n",
    "    1.2 Find the matching metadata table:\n",
    "        Click on the 'SRA Run Selector' button at the bottom left of the dataset page.\n",
    "\n",
    "        This table links samples to treatment/groups and may include additional information such as age, sex, etc.\n",
    "        \n",
    "        Example metadata table location: /hdd1/projects/cd206/GSE189849/SraRunTable.csv\n"
   ]
  },
  {
   "cell_type": "markdown",
   "metadata": {},
   "source": [
    "2. Create an info file for multiple sample downloads\n",
    "\n",
    "    2.1 Create a new file containing the SRR IDs you wish to download. Set the column name to Run.\n",
    "\n",
    "    2.2 Add another column specifying the group name for each sample. Set the column name to group.\n",
    "\n",
    "    2.3 Save the file to the desired location.\n",
    "\n",
    "    Example: /hdd1/projects/cd206/GSE189849/sample.txt"
   ]
  },
  {
   "cell_type": "markdown",
   "metadata": {},
   "source": [
    "3. Download SRA files using Prefetch\n",
    "\n",
    "    3.1 Download a single SRA file:\n"
   ]
  },
  {
   "cell_type": "code",
   "execution_count": null,
   "metadata": {},
   "outputs": [],
   "source": [
    "/home/elik/sratoolkit.3.0.0-centos_linux64/bin/prefetch SRR123456 &"
   ]
  },
  {
   "cell_type": "markdown",
   "metadata": {},
   "source": [
    "    3.2 Download multiple SRA files:\n"
   ]
  },
  {
   "cell_type": "code",
   "execution_count": null,
   "metadata": {},
   "outputs": [],
   "source": [
    "tail -n +2 /PATH/TO/SRR/FILE/PRJNA12345.txt | while IFS=$'\\t' read -r i _; do /home/elik/sratoolkit.3.0.0-centos_linux64/bin/prefetch \"$i\"; done &"
   ]
  },
  {
   "cell_type": "markdown",
   "metadata": {},
   "source": [
    "    3.3 The downloaded SRA files will be located at: /hdd1/ncbi/sra/"
   ]
  },
  {
   "cell_type": "markdown",
   "metadata": {},
   "source": [
    "4. Convert SRA to FASTQ Using Fastq-Dump\n",
    "\n",
    "    4.1 Convert a single file:"
   ]
  },
  {
   "cell_type": "code",
   "execution_count": null,
   "metadata": {},
   "outputs": [],
   "source": [
    "/home/elik/sratoolkit.3.0.0-centos_linux64/bin/fastq-dump --split-files --gzip --outdir /PATH/TO/OUTPUT /hdd1/ncbi/sra/SRR12345.sra &"
   ]
  },
  {
   "cell_type": "markdown",
   "metadata": {},
   "source": [
    "    4.2 Convert multiple files:"
   ]
  },
  {
   "cell_type": "code",
   "execution_count": null,
   "metadata": {},
   "outputs": [],
   "source": [
    "tail -n +2 /PATH/TO/SRR/FILE/PRJNA12345.txt | while IFS=$'\\t' read -r i _; do /home/elik/sratoolkit.3.0.0-centos_linux64/bin/fastq-dump --split-files --gzip --outdir /PATH/TO/OUTPUT /hdd1/ncbi/sra/\"$i\".sra; done &"
   ]
  },
  {
   "cell_type": "markdown",
   "metadata": {},
   "source": [
    "5. Run Salmon Quantification\n",
    "\n",
    "    5.1 Change to the directory containing the FASTQ files:"
   ]
  },
  {
   "cell_type": "code",
   "execution_count": null,
   "metadata": {},
   "outputs": [],
   "source": [
    "cd /PATH/TO/OUTPUT"
   ]
  },
  {
   "cell_type": "markdown",
   "metadata": {},
   "source": [
    "    5.2 Quantify reads (For mouse data, update the -i parameter to: /hdd1/genomes/salmon/salmon_index/mouse_index_gencodevM31):"
   ]
  },
  {
   "cell_type": "markdown",
   "metadata": {},
   "source": [
    "    Single-end:"
   ]
  },
  {
   "cell_type": "code",
   "execution_count": null,
   "metadata": {},
   "outputs": [],
   "source": [
    "tail -n +2 /PATH/TO/SRR/FILE/PRJNA12345.txt | while IFS=$'\\t' read -r i _; do \\\n",
    "/home/elik/anaconda3/bin/salmon quant \\\n",
    "-i /hdd1/genomes/salmon/salmon_index/hg38_index_gencodeV40 \\\n",
    "-l U -r \"$i\"_1.fastq.gz \\\n",
    "-o /PATH/TO/OUTPUT/\"$i\"; done &"
   ]
  },
  {
   "cell_type": "markdown",
   "metadata": {},
   "source": [
    "    Paired-end:"
   ]
  },
  {
   "cell_type": "code",
   "execution_count": null,
   "metadata": {},
   "outputs": [],
   "source": [
    "tail -n +2 /PATH/TO/SRR/FILE/PRJNA12345.txt | while IFS=$'\\t' read -r i _; do \\\n",
    "/home/elik/anaconda3/bin/salmon quant \\\n",
    "-i /hdd1/genomes/salmon/salmon_index/hg38_index_gencodeV40 \\\n",
    "-l IU -1 \"$i\"_1.fastq.gz -2 \"$i\"_2.fastq.gz \\\n",
    "-o /PATH/TO/OUTPUT/\"$i\"; done &"
   ]
  },
  {
   "cell_type": "markdown",
   "metadata": {},
   "source": [
    "6. Analysis (use the script located at: /hdd1/projects/bulk_expression/code/DEA_R.ipynb):\n",
    "   \n",
    "   6.1 Create a summary table of TPM levels - Step 1.\n",
    "   \n",
    "    Output: A table with rows as gene names, columns as sample names, and values as TPM levels.\n",
    "\n",
    "   6.2 Run differential expression analysis with DESeq2 - Step 2.\n",
    "\n",
    "    Output: \n",
    "    \n",
    "        a) Differential expression output files between control and each group.\n",
    "\n",
    "        The relevant columns are log2FoldChange and pajd (FDR). \n",
    "        \n",
    "        b) PCA plot\n",
    "\n",
    "\n",
    "        "
   ]
  }
 ],
 "metadata": {
  "language_info": {
   "name": "python"
  }
 },
 "nbformat": 4,
 "nbformat_minor": 2
}
