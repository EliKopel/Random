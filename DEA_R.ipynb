{
 "cells": [
  {
   "cell_type": "code",
   "execution_count": 28,
   "metadata": {
    "vscode": {
     "languageId": "r"
    }
   },
   "outputs": [],
   "source": [
    "# Load required libraries\n",
    "library(data.table)\n",
    "library(tximport)\n",
    "library(DESeq2)\n",
    "library(TxDb.Hsapiens.UCSC.hg38.knownGene)\n",
    "library(TxDb.Mmusculus.UCSC.mm10.knownGene)\n",
    "library(apeglm)\n",
    "library(ggplot2)\n",
    "library(dplyr)"
   ]
  },
  {
   "cell_type": "code",
   "execution_count": 29,
   "metadata": {
    "vscode": {
     "languageId": "r"
    }
   },
   "outputs": [],
   "source": [
    "# Function to load sample metadata\n",
    "load_samples <- function(samples_file) {\n",
    "  fread(samples_file, stringsAsFactors = FALSE)\n",
    "}\n",
    "\n",
    "# Function to validate file paths\n",
    "validate_files <- function(samples, salmon_path) {\n",
    "  files <- file.path(salmon_path, samples$Run, \"quant.sf\")\n",
    "  names(files) <- samples$Run\n",
    "  if (!all(file.exists(files))) stop(\"Some files are missing!\")\n",
    "  files\n",
    "}\n",
    "\n",
    "# Function to load gene name mappings\n",
    "load_gene_names <- function(gene_name_file) {\n",
    "  fread(gene_name_file, stringsAsFactors = FALSE)\n",
    "}\n",
    "\n",
    "# Function to load transcript-to-gene mapping\n",
    "load_tx2gene <- function(tx2gene_file) {\n",
    "  fread(tx2gene_file, stringsAsFactors = FALSE)\n",
    "}\n",
    "\n",
    "# Function to import Salmon quantification\n",
    "import_salmon <- function(files, tx2gene) {\n",
    "  tximport(files, type = \"salmon\", tx2gene = tx2gene, ignoreAfterBar = TRUE)\n",
    "}\n",
    "\n",
    "# Function to save TPM matrix\n",
    "save_tpm_matrix <- function(txi_salmon, output_path) {\n",
    "  tpm_file <- file.path(output_path, \"salmon_tpm_matrix.csv\")\n",
    "  write.csv(txi_salmon$abundance, tpm_file, row.names = TRUE)\n",
    "}\n",
    "\n",
    "#Function to prepare DESeq2 dataset\n",
    "prepare_deseq2 <- function(txi_salmon, samples, ref_group) {\n",
    "  sample_table <- data.frame(group = samples$group)\n",
    "  rownames(sample_table) <- colnames(txi_salmon$counts)\n",
    "  sample_table$group <- relevel(factor(sample_table$group), ref = ref_group)\n",
    "  DESeqDataSetFromTximport(txi_salmon, sample_table, ~ group)\n",
    "}\n",
    "\n",
    "create_tpm_matrix <- function(samples_file, gene_name_file, salmon_path, tx2gene_file, output_path) {\n",
    "  samples <- load_samples(samples_file)\n",
    "  files <- validate_files(samples, salmon_path)\n",
    "  tx2gene <- load_tx2gene(tx2gene_file)\n",
    "  txi_salmon <- import_salmon(files, tx2gene)\n",
    "  save_tpm_matrix(txi_salmon, output_path)\n",
    "  \n",
    "  # Return txi_salmon for later use\n",
    "  return(txi_salmon)\n",
    "}\n",
    "\n",
    "# Function to perform PCA and save the plot with sample names for outliers\n",
    "perform_pca <- function(dds, output_path, outlier_threshold = 2) {\n",
    "  rld <- rlog(dds)  # Log transformation\n",
    "  pca_data <- plotPCA(rld, intgroup = \"group\", returnData = TRUE)\n",
    "  percentVar <- round(100 * attr(pca_data, \"percentVar\"))\n",
    "  \n",
    "  # Calculate distances from the centroid\n",
    "  centroid <- colMeans(pca_data[, c(\"PC1\", \"PC2\")])\n",
    "  pca_data$distance <- sqrt((pca_data$PC1 - centroid[1])^2 + (pca_data$PC2 - centroid[2])^2)\n",
    "  \n",
    "  # Identify outliers\n",
    "  outlier_samples <- pca_data[pca_data$distance > outlier_threshold, ]\n",
    "  \n",
    "  p <- ggplot(pca_data, aes(PC1, PC2, color = group, label = name)) +\n",
    "    geom_point(size = 3) +\n",
    "    xlab(paste0(\"PC1: \", percentVar[1], \"% variance\")) +\n",
    "    ylab(paste0(\"PC2: \", percentVar[2], \"% variance\")) +\n",
    "    theme_bw() +  # Set background to white\n",
    "    ggtitle(\"PCA of Samples\") +\n",
    "    geom_text(data = outlier_samples, aes(label = name), nudge_y = 0.5, check_overlap = TRUE)\n",
    "  \n",
    "  pca_file <- file.path(output_path, \"PCA_plot.png\")\n",
    "  ggsave(pca_file, p, width = 8, height = 6)\n",
    "  \n",
    "  # Save a list of outlier samples to a file\n",
    "  outliers_file <- file.path(output_path, \"outlier_samples.csv\")\n",
    "  write.csv(outlier_samples, outliers_file, row.names = FALSE)\n",
    "}\n",
    "\n",
    "# Function to process DESeq2 results\n",
    "process_deseq2_results <- function(dds, gene_name, output_path) {\n",
    "  for (i in seq_along(resultsNames(dds))[-1]) {\n",
    "    result_name <- resultsNames(dds)[i]\n",
    "    res <- results(dds, name = result_name)\n",
    "    raw_res_file <- file.path(output_path, paste0(result_name, \"_raw.csv\"))\n",
    "    write.csv(res, raw_res_file, row.names = TRUE)\n",
    "    \n",
    "    res_data <- fread(raw_res_file, stringsAsFactors = FALSE)\n",
    "    res_data$V1 <- sapply(strsplit(as.character(res_data$V1), \"\\\\.\"), function(x) x[1])\n",
    "    annotated_res <- merge(res_data, gene_name, by.x = \"V1\", by.y = \"ensembl_gene_id\", all.x = TRUE)\n",
    "    annotated_file <- file.path(output_path, paste0(result_name, \"_annotated.csv\"))\n",
    "    write.csv(annotated_res, annotated_file, row.names = FALSE)\n",
    "    file.remove(raw_res_file)\n",
    "  }\n",
    "}\n",
    "\n",
    "run_differential_expression <- function(txi_salmon, samples_file, gene_name_file, output_path, ref_group) {\n",
    "  samples <- load_samples(samples_file)\n",
    "  gene_name <- load_gene_names(gene_name_file)\n",
    "  \n",
    "  dds <- prepare_deseq2(txi_salmon, samples, ref_group)\n",
    "\n",
    "  dds <- DESeq(dds)\n",
    "  \n",
    "  # Perform PCA and save plots\n",
    "  perform_pca(dds, output_path)\n",
    "  \n",
    "  # Process and annotate DESeq2 results\n",
    "  process_deseq2_results(dds, gene_name, output_path)\n",
    "}\n"
   ]
  },
  {
   "cell_type": "markdown",
   "metadata": {},
   "source": [
    "### Step 0: Define directory"
   ]
  },
  {
   "cell_type": "code",
   "execution_count": null,
   "metadata": {
    "vscode": {
     "languageId": "r"
    }
   },
   "outputs": [],
   "source": [
    "samples_file = \"/hdd1/projects/rand/GLP1/GSE218026/sample.txt\"\n",
    "salmon_path = \"/hdd1/projects/rand/GLP1/GSE218026/\"\n",
    "output_path = \"/hdd1/projects/rand/GLP1/GSE218026/test_script/\"\n",
    "organism_type = \"mouse\" #\"human\"\n",
    "ref_group = \"Sham\""
   ]
  },
  {
   "cell_type": "markdown",
   "metadata": {},
   "source": [
    "### Step 1: Generate TPM Matrix"
   ]
  },
  {
   "cell_type": "code",
   "execution_count": null,
   "metadata": {
    "vscode": {
     "languageId": "r"
    }
   },
   "outputs": [],
   "source": [
    "if (organism_type == \"mouse\") {\n",
    "    gene_name_file = \"/hdd1/projects/bulk_expression/symbol_to_gene/mouse_ensmus_to_geneName.csv\"\n",
    "    tx2gene_file = \"/hdd1/projects/bulk_expression/symbol_to_gene/ENSMUST_to_ENSMUSG.csv\"\n",
    "} else if(organism_type == \"human\") {\n",
    "    gene_name_file = \"/hdd1/projects/bulk_expression/symbol_to_gene/biomart_hg38_ensg_geneName.csv\"\n",
    "    tx2gene_file = \"/hdd1/projects/bulk_expression/symbol_to_gene/enst_to_ensg.csv\"\n",
    "}\n",
    "#Run function\n",
    "txi_output <- create_tpm_matrix(\n",
    "  samples_file,\n",
    "  gene_name_file,\n",
    "  salmon_path,\n",
    "  tx2gene_file,\n",
    "  output_path\n",
    ")"
   ]
  },
  {
   "cell_type": "markdown",
   "metadata": {},
   "source": [
    "### Step 2: Differential Expression Analysis"
   ]
  },
  {
   "cell_type": "code",
   "execution_count": null,
   "metadata": {
    "vscode": {
     "languageId": "r"
    }
   },
   "outputs": [],
   "source": [
    "if (organism_type == \"mouse\") {\n",
    "    gene_name_file = \"/hdd1/projects/bulk_expression/symbol_to_gene/mouse_ensmus_to_geneName.csv\"\n",
    "} else if(organism_type == \"human\") {\n",
    "    gene_name_file = \"/hdd1/projects/bulk_expression/symbol_to_gene/biomart_hg38_ensg_geneName.csv\"\n",
    "}\n",
    "\n",
    "#Run function\n",
    "run_differential_expression(\n",
    "  txi_salmon = txi_output,\n",
    "  samples_file,\n",
    "  gene_name_file,\n",
    "  output_path,\n",
    "  ref_group\n",
    ")"
   ]
  }
 ],
 "metadata": {
  "kernelspec": {
   "display_name": "R",
   "language": "R",
   "name": "ir"
  },
  "language_info": {
   "codemirror_mode": "r",
   "file_extension": ".r",
   "mimetype": "text/x-r-source",
   "name": "R",
   "pygments_lexer": "r",
   "version": "4.2.2"
  }
 },
 "nbformat": 4,
 "nbformat_minor": 2
}
